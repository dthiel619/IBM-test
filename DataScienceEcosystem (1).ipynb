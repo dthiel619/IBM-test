{
 "cells": [
  {
   "cell_type": "markdown",
   "id": "95276956-b610-4f54-bb0e-332d1c5bbdc5",
   "metadata": {},
   "source": [
    "Data Science Tools and Ecosystem"
   ]
  },
  {
   "cell_type": "markdown",
   "id": "51a45d88-719e-47dc-b4c6-13defea9dcad",
   "metadata": {},
   "source": [
    "In this notebook, Data Science Tools and Ecosystems are symmarized.\n"
   ]
  },
  {
   "cell_type": "markdown",
   "id": "b2af7d1b-94d0-495d-898e-8de38c75b0f3",
   "metadata": {},
   "source": [
    "Some of the popular languages used by Data Scientists are:\n",
    "1. Python\n",
    "2. R\n",
    "3. SQL"
   ]
  },
  {
   "cell_type": "markdown",
   "id": "7fc9bc0b-7b96-484a-97e0-315f8a689d28",
   "metadata": {},
   "source": [
    "Some of the commonly used libraries used by Data Scientists include:\n",
    "- Pandas\n",
    "- TensorFlow\n",
    "- Keras\n",
    "- SciPy\n"
   ]
  },
  {
   "cell_type": "markdown",
   "id": "07ab22d8-e162-4cf6-b1e5-b7137ce3aa09",
   "metadata": {},
   "source": [
    "Data Science tools |\n",
    "| -------- |\n",
    "| GitHub |\n",
    "| R Studio |\n",
    "| Jupyter Lab |\n",
    "| Jupyter Notebooks |"
   ]
  },
  {
   "cell_type": "markdown",
   "id": "a66e2ac2-1e01-45aa-9954-300da63d17d7",
   "metadata": {},
   "source": [
    "Below are a few examples of evaluating arithmetic expressions in Python\n",
    "\n"
   ]
  },
  {
   "cell_type": "code",
   "execution_count": 9,
   "id": "515d3722-2a2b-48b7-b536-d1928574b558",
   "metadata": {},
   "outputs": [
    {
     "data": {
      "text/plain": [
       "17"
      ]
     },
     "execution_count": 9,
     "metadata": {},
     "output_type": "execute_result"
    }
   ],
   "source": [
    "# This is a \"simple arthimetic expression to multply then add integers.\"\n",
    "(3*4)+5\n",
    "\n",
    "\n"
   ]
  },
  {
   "cell_type": "code",
   "execution_count": 10,
   "id": "25234db4-d966-41f7-9e22-68389bda65cf",
   "metadata": {},
   "outputs": [
    {
     "data": {
      "text/plain": [
       "3.3333333333333335"
      ]
     },
     "execution_count": 10,
     "metadata": {},
     "output_type": "execute_result"
    }
   ],
   "source": [
    "# This will convert 200 mintutes to hours by dividing by 60\n",
    "200/60"
   ]
  },
  {
   "cell_type": "markdown",
   "id": "0b59ecc0-f6f9-40bf-8431-71d2656ce923",
   "metadata": {},
   "source": [
    "Objectives\n",
    "\n",
    "+ **list popular languages for data science**\n",
    "+ **list commonly used libraries**\n",
    "+ **show basic arimithic skills**\n"
   ]
  },
  {
   "cell_type": "markdown",
   "id": "64dec2b2-7cce-40c4-b2c5-567a8271b671",
   "metadata": {},
   "source": [
    "AUTHOR\n",
    "## Douglas Thiel"
   ]
  }
 ],
 "metadata": {
  "kernelspec": {
   "display_name": "Python",
   "language": "python",
   "name": "conda-env-python-py"
  },
  "language_info": {
   "codemirror_mode": {
    "name": "ipython",
    "version": 3
   },
   "file_extension": ".py",
   "mimetype": "text/x-python",
   "name": "python",
   "nbconvert_exporter": "python",
   "pygments_lexer": "ipython3",
   "version": "3.7.12"
  }
 },
 "nbformat": 4,
 "nbformat_minor": 5
}
